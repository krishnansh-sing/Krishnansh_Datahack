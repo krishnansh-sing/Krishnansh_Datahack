{
 "cells": [
  {
   "cell_type": "code",
   "execution_count": null,
   "id": "5868a448-7805-4279-8084-a877a4c62db1",
   "metadata": {},
   "outputs": [],
   "source": [
    "import pandas as pd\n",
    "import numpy as np"
   ]
  },
  {
   "cell_type": "code",
   "execution_count": null,
   "id": "03c1e00a-70e0-4999-8579-ef409b30ddd2",
   "metadata": {},
   "outputs": [],
   "source": [
    "data = pd.read_csv('training_set_features.csv')"
   ]
  },
  {
   "cell_type": "code",
   "execution_count": null,
   "id": "01f67813-1498-4606-9992-f927c0345c1d",
   "metadata": {},
   "outputs": [],
   "source": [
    "data.head()\n",
    "# data.tail()"
   ]
  },
  {
   "cell_type": "code",
   "execution_count": null,
   "id": "6700d7b0-11b5-44ed-b1a1-f9724c6bfcff",
   "metadata": {},
   "outputs": [],
   "source": [
    "data.describe()"
   ]
  },
  {
   "cell_type": "code",
   "execution_count": null,
   "id": "2281a63c-dc98-40ad-bf3b-d699cdd57970",
   "metadata": {},
   "outputs": [],
   "source": [
    "data.index"
   ]
  },
  {
   "cell_type": "code",
   "execution_count": null,
   "id": "4993468d-ebf2-491c-ab94-8cec4c84a8a1",
   "metadata": {},
   "outputs": [],
   "source": [
    "data.shape"
   ]
  },
  {
   "cell_type": "code",
   "execution_count": null,
   "id": "35f89f42-ae2b-4f82-8b29-973a889bed12",
   "metadata": {},
   "outputs": [],
   "source": [
    "data.columns"
   ]
  },
  {
   "cell_type": "code",
   "execution_count": null,
   "id": "64f931ea-df7d-45be-bc8a-5bb63048a6a6",
   "metadata": {},
   "outputs": [],
   "source": [
    "data.select_dtypes(include=['int', 'float'])"
   ]
  },
  {
   "cell_type": "code",
   "execution_count": null,
   "id": "69a41633-e335-4a24-be30-1f1d4a94b3ab",
   "metadata": {},
   "outputs": [],
   "source": [
    "data.dtypes"
   ]
  },
  {
   "cell_type": "code",
   "execution_count": null,
   "id": "3d1e1935-5919-4ef7-9fed-75192e35cf52",
   "metadata": {},
   "outputs": [],
   "source": [
    "arr = data.select_dtypes(include=['object']).columns\n",
    "arr"
   ]
  },
  {
   "cell_type": "code",
   "execution_count": null,
   "id": "b737bdfc-25cb-40ca-aa5f-35d5714f94fe",
   "metadata": {},
   "outputs": [],
   "source": [
    "data.age_group.unique()"
   ]
  },
  {
   "cell_type": "code",
   "execution_count": null,
   "id": "4e74f602-f170-4622-bc89-1dd338c45c6c",
   "metadata": {},
   "outputs": [],
   "source": [
    "data.education.unique()"
   ]
  },
  {
   "cell_type": "code",
   "execution_count": null,
   "id": "60fef259-ec0f-4ebb-804e-f47ffdeec5bf",
   "metadata": {},
   "outputs": [],
   "source": [
    "data.race.unique()"
   ]
  },
  {
   "cell_type": "code",
   "execution_count": null,
   "id": "1d19aec1-8937-4140-8e2b-ccb2d9d82415",
   "metadata": {},
   "outputs": [],
   "source": [
    "data.sex.unique()"
   ]
  },
  {
   "cell_type": "code",
   "execution_count": null,
   "id": "e3e97537-536d-4a28-a206-27ded0aeb91b",
   "metadata": {},
   "outputs": [],
   "source": [
    "data.income_poverty.unique()\t"
   ]
  },
  {
   "cell_type": "code",
   "execution_count": null,
   "id": "51ffc641-be0a-402a-aa28-9a0e7218ed18",
   "metadata": {},
   "outputs": [],
   "source": [
    "data[\"marital_status\"].unique()"
   ]
  },
  {
   "cell_type": "code",
   "execution_count": null,
   "id": "e611b084-ecfb-4050-b74a-c386e09bd164",
   "metadata": {},
   "outputs": [],
   "source": [
    "data[\"rent_or_own\"].unique()"
   ]
  },
  {
   "cell_type": "code",
   "execution_count": null,
   "id": "2d99973e-355e-4d6f-ba79-930f60fdd83d",
   "metadata": {},
   "outputs": [],
   "source": [
    "data[\"employment_status\"].unique()"
   ]
  },
  {
   "cell_type": "code",
   "execution_count": null,
   "id": "f1937143-104c-49ad-b118-ad40165742b1",
   "metadata": {},
   "outputs": [],
   "source": [
    "data[\"hhs_geo_region\"].unique()"
   ]
  },
  {
   "cell_type": "code",
   "execution_count": null,
   "id": "abc168ee-aeb7-445e-906a-f2e677edee4d",
   "metadata": {},
   "outputs": [],
   "source": [
    "data[\"census_msa\"].unique()"
   ]
  },
  {
   "cell_type": "code",
   "execution_count": null,
   "id": "64dc4060-21e8-4f3d-9599-3cbddbca18aa",
   "metadata": {},
   "outputs": [],
   "source": [
    "data[\"employment_industry\"].unique()"
   ]
  },
  {
   "cell_type": "code",
   "execution_count": null,
   "id": "31b389f0-4b8b-470d-b9cf-486eb7431213",
   "metadata": {},
   "outputs": [],
   "source": [
    "data['employment_occupation'].unique()"
   ]
  },
  {
   "cell_type": "code",
   "execution_count": null,
   "id": "6bac2ae0-124a-4e99-bde1-e297b51bf1d9",
   "metadata": {},
   "outputs": [],
   "source": [
    "output=pd.read_csv('training_set_labels.csv',)\n",
    "output.drop('respondent_id',axis=1,inplace=True)"
   ]
  },
  {
   "cell_type": "code",
   "execution_count": null,
   "id": "752fc01e-6ece-43fa-a208-a6874de21c03",
   "metadata": {},
   "outputs": [],
   "source": [
    "output"
   ]
  },
  {
   "cell_type": "code",
   "execution_count": null,
   "id": "892fa6b1-8adf-43bc-a9c9-07101c4768c0",
   "metadata": {},
   "outputs": [],
   "source": [
    "data.isnull()"
   ]
  },
  {
   "cell_type": "code",
   "execution_count": null,
   "id": "be25618d-1870-48cc-b1ec-90c1de316fe9",
   "metadata": {},
   "outputs": [],
   "source": [
    "data.notnull()"
   ]
  },
  {
   "cell_type": "code",
   "execution_count": null,
   "id": "59d49a9c-ba6d-4e14-9806-badc1d03c562",
   "metadata": {},
   "outputs": [],
   "source": [
    "data.isnull().sum()"
   ]
  },
  {
   "cell_type": "code",
   "execution_count": null,
   "id": "5af90b6f-b75e-4f5b-8615-b6942cc7e076",
   "metadata": {},
   "outputs": [],
   "source": [
    "data.dropna(how='any',inplace=False)"
   ]
  },
  {
   "cell_type": "code",
   "execution_count": null,
   "id": "d443b8e0-8326-4c2d-a81a-78d750c1a295",
   "metadata": {},
   "outputs": [],
   "source": [
    "data.shape"
   ]
  },
  {
   "cell_type": "code",
   "execution_count": null,
   "id": "8e1d9cd3-cdf9-493a-abfc-48b5aa44f04e",
   "metadata": {},
   "outputs": [],
   "source": [
    "output.isnull()"
   ]
  },
  {
   "cell_type": "code",
   "execution_count": null,
   "id": "478fcc6a-8a23-4301-93a7-f09b9f869343",
   "metadata": {},
   "outputs": [],
   "source": [
    "output.isnull().sum()"
   ]
  },
  {
   "cell_type": "code",
   "execution_count": null,
   "id": "f6c812a0-e9da-4ee8-bce4-c763b2ac906e",
   "metadata": {},
   "outputs": [],
   "source": [
    "for column in data.columns:\n",
    "    data[column].fillna(data[column].mode()[0], inplace=True)"
   ]
  },
  {
   "cell_type": "code",
   "execution_count": null,
   "id": "bfab6f97-b0ee-4505-acb2-9b69a442829e",
   "metadata": {},
   "outputs": [],
   "source": [
    "data.head()"
   ]
  },
  {
   "cell_type": "code",
   "execution_count": null,
   "id": "edbdfbb7-edee-4476-be75-907449ed0af5",
   "metadata": {},
   "outputs": [],
   "source": [
    "data.isnull().sum()"
   ]
  },
  {
   "cell_type": "code",
   "execution_count": null,
   "id": "d90df38d-bf54-427f-856c-ce5e1d47778c",
   "metadata": {},
   "outputs": [],
   "source": [
    "for column in arr:\n",
    "    print(sorted(data[column].unique()))"
   ]
  },
  {
   "cell_type": "code",
   "execution_count": null,
   "id": "9a169295-8b20-47a8-8f1d-71521fd6b881",
   "metadata": {},
   "outputs": [],
   "source": [
    "data.drop('respondent_id',axis=1,inplace=True)"
   ]
  },
  {
   "cell_type": "code",
   "execution_count": null,
   "id": "637375b7-926f-4696-9b2e-51612ec492c6",
   "metadata": {},
   "outputs": [],
   "source": [
    "for column in arr :\n",
    "    x=0\n",
    "    for unique in sorted(data[column].unique()):\n",
    "        for i in range(26707):\n",
    "            if data[column][i]==unique:\n",
    "                data.at[i, column] = x\n",
    "        x=x+1"
   ]
  },
  {
   "cell_type": "code",
   "execution_count": null,
   "id": "be2266dc-564b-49df-be7e-8a90f3994fd2",
   "metadata": {},
   "outputs": [],
   "source": [
    "data"
   ]
  },
  {
   "cell_type": "code",
   "execution_count": null,
   "id": "29f3c143-11f9-43d3-9a00-5ed100ba207f",
   "metadata": {},
   "outputs": [],
   "source": [
    "test_set_features = pd.read_csv('test_set_features.csv')"
   ]
  },
  {
   "cell_type": "code",
   "execution_count": null,
   "id": "08942234-013b-4715-b3d6-06bb0a6315ab",
   "metadata": {},
   "outputs": [],
   "source": [
    "test = pd.read_csv('test_set_features.csv')"
   ]
  },
  {
   "cell_type": "code",
   "execution_count": null,
   "id": "3f7a3338-421b-4864-8647-752da27efc26",
   "metadata": {},
   "outputs": [],
   "source": [
    "test.drop('respondent_id',axis=1,inplace=True)"
   ]
  },
  {
   "cell_type": "code",
   "execution_count": null,
   "id": "c8ff0f54-0ba8-4cbf-bb1d-782e3293896a",
   "metadata": {},
   "outputs": [],
   "source": [
    "for column in test.columns:\n",
    "    test[column].fillna(test[column].mode()[0], inplace=True)"
   ]
  },
  {
   "cell_type": "code",
   "execution_count": null,
   "id": "c9ac71ea-9270-486f-b2cb-d15f55017235",
   "metadata": {},
   "outputs": [],
   "source": [
    "arrtest = test.select_dtypes(include=['object']).columns\n",
    "arrtest"
   ]
  },
  {
   "cell_type": "code",
   "execution_count": null,
   "id": "bbb9b6ac-d512-47ed-b3c0-2679c17506b1",
   "metadata": {},
   "outputs": [],
   "source": [
    "for column in arrtest:\n",
    "    print(sorted(test[column].unique()))"
   ]
  },
  {
   "cell_type": "code",
   "execution_count": null,
   "id": "8662c5b8-e23b-4fef-bbc1-dcf2dfc648d6",
   "metadata": {},
   "outputs": [],
   "source": [
    "test.shape"
   ]
  },
  {
   "cell_type": "code",
   "execution_count": null,
   "id": "a19f6353-b96d-4287-a4b4-009f2330abfb",
   "metadata": {},
   "outputs": [],
   "source": [
    "for column in arrtest :\n",
    "    x=0\n",
    "    for unique in sorted(test[column].unique()):\n",
    "        for i in range(26708):\n",
    "            if test[column][i]==unique:\n",
    "                test.at[i, column] = x\n",
    "        x=x+1"
   ]
  },
  {
   "cell_type": "code",
   "execution_count": null,
   "id": "ec620689-4975-4964-9bf3-4dfce5e558ee",
   "metadata": {},
   "outputs": [],
   "source": [
    "test"
   ]
  },
  {
   "cell_type": "code",
   "execution_count": null,
   "id": "9db9009b-3c5c-4fec-8fc9-bac37b360a03",
   "metadata": {},
   "outputs": [],
   "source": [
    "from sklearn.linear_model import LogisticRegression\n",
    "from sklearn.metrics import roc_auc_score\n",
    "# Initialize the model\n",
    "model = LogisticRegression(max_iter=30000)\n",
    "\n",
    "# Train the model\n",
    "model.fit(data, output.xyz_vaccine)\n",
    "\n",
    "prediction_1 = model.predict(test)\n",
    "# Make predictions\n",
    "probability_1 = model.predict_proba(test)\n",
    "prediction_1"
   ]
  },
  {
   "cell_type": "code",
   "execution_count": null,
   "id": "edbfc023-de48-44a2-a642-50d3bce45e9a",
   "metadata": {},
   "outputs": [],
   "source": [
    "probability_1[: , 1]"
   ]
  },
  {
   "cell_type": "code",
   "execution_count": null,
   "id": "ca9aea8b-8ece-4f07-8add-d046f1a0c87d",
   "metadata": {},
   "outputs": [],
   "source": [
    "np.round(probability_1[: , 1],decimals=2)"
   ]
  },
  {
   "cell_type": "code",
   "execution_count": null,
   "id": "19e67711-c9c5-469c-a5bd-ba9b713f20bc",
   "metadata": {},
   "outputs": [],
   "source": [
    "model.fit(data, output.seasonal_vaccine)\n",
    "\n",
    "prediction_2 = model.predict(test)\n",
    "# Make predictions\n",
    "probability_2 = model.predict_proba(test)\n",
    "prediction_2"
   ]
  },
  {
   "cell_type": "code",
   "execution_count": null,
   "id": "55bb022f-b8b4-49ef-8001-18c0f118245f",
   "metadata": {},
   "outputs": [],
   "source": [
    "np.round(probability_2[: , 1],decimals=2)"
   ]
  },
  {
   "cell_type": "code",
   "execution_count": null,
   "id": "9ec0e8ce-e9d3-4d52-9904-4126eb181459",
   "metadata": {},
   "outputs": [],
   "source": [
    "df = {'respondent_id':test_set_features.respondent_id, 'xyz_vaccine':np.round(probability_1[: , 1],decimals=2),\t'seasonal_vaccine':np.round(probability_2[: , 1],decimals=2)}"
   ]
  },
  {
   "cell_type": "code",
   "execution_count": null,
   "id": "9ac0b0e6-32ba-4873-8f16-134aef94b150",
   "metadata": {},
   "outputs": [],
   "source": [
    "submission = pd.DataFrame(df)"
   ]
  },
  {
   "cell_type": "code",
   "execution_count": null,
   "id": "b4179c21-8969-417d-96b2-0115558a1e35",
   "metadata": {},
   "outputs": [],
   "source": [
    "submission"
   ]
  },
  {
   "cell_type": "code",
   "execution_count": null,
   "id": "a81360d2-610e-4196-9eed-6daae303978d",
   "metadata": {},
   "outputs": [],
   "source": [
    "submission.describe()"
   ]
  },
  {
   "cell_type": "code",
   "execution_count": null,
   "id": "7a540b42-3f69-4a43-80a6-829a37fa06ff",
   "metadata": {},
   "outputs": [],
   "source": [
    "submission.to_csv('C:/Users/DELL 5490/Downloads/submission.csv', index=False)"
   ]
  },
  {
   "cell_type": "code",
   "execution_count": null,
   "id": "d568f36f-e629-456b-af93-d1e003ab131d",
   "metadata": {},
   "outputs": [],
   "source": [
    "matrix = np.hstack((prediction_1[:, np.newaxis], prediction_2[:, np.newaxis]))\n",
    "matrix"
   ]
  },
  {
   "cell_type": "code",
   "execution_count": null,
   "id": "9df55d2e-0733-478c-9452-9fe5972b250b",
   "metadata": {},
   "outputs": [],
   "source": [
    "from sklearn.metrics import roc_auc_score\n",
    "import numpy as np\n",
    "\n",
    "# Generate synthetic predicted probabilities (or scores) from your classifier\n",
    "# Example: Randomly generated predicted probabilities\n",
    "n_samples = 26708\n",
    "n_classes = 2  # Number of classes or labels\n",
    "predicted_probabilities = np.random.rand(n_samples, n_classes)\n",
    "predicted_probabilities.shape\n",
    "\n",
    "# Generate synthetic true labels based on a threshold\n",
    "threshold = 0.5  # Threshold for binary classification\n",
    "synthetic_true_labels = (predicted_probabilities > threshold).astype(int)\n",
    "synthetic_true_labels.shape\n",
    "\n",
    "# Compute ROC AUC scores assuming synthetic_true_labels as the ground truth\n",
    "roc_auc_scores = roc_auc_score(synthetic_true_labels, matrix, average=None)\n",
    "\n",
    "print(\"ROC AUC scores for each label:\", roc_auc_scores)"
   ]
  },
  {
   "cell_type": "code",
   "execution_count": null,
   "id": "18184e05-b0be-42bb-a609-8754f6776c2b",
   "metadata": {},
   "outputs": [],
   "source": [
    "overall_score=roc_auc_scores.mean()\n",
    "overall_score"
   ]
  },
  {
   "cell_type": "code",
   "execution_count": null,
   "id": "2155a1f1-3d2c-4f8c-b4b8-819e906fbbbd",
   "metadata": {},
   "outputs": [],
   "source": []
  },
  {
   "cell_type": "code",
   "execution_count": null,
   "id": "32da35f8-5fd3-4d70-bdb2-c3a313a482f1",
   "metadata": {},
   "outputs": [],
   "source": []
  }
 ],
 "metadata": {
  "kernelspec": {
   "display_name": "Python 3 (ipykernel)",
   "language": "python",
   "name": "python3"
  },
  "language_info": {
   "codemirror_mode": {
    "name": "ipython",
    "version": 3
   },
   "file_extension": ".py",
   "mimetype": "text/x-python",
   "name": "python",
   "nbconvert_exporter": "python",
   "pygments_lexer": "ipython3",
   "version": "3.11.7"
  }
 },
 "nbformat": 4,
 "nbformat_minor": 5
}
